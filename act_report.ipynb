{
 "cells": [
  {
   "cell_type": "markdown",
   "metadata": {},
   "source": [
    "## Report: act_report"
   ]
  },
  {
   "cell_type": "markdown",
   "metadata": {},
   "source": [
    "## Exploring the WeLoveDogs Twitter Page"
   ]
  },
  {
   "cell_type": "markdown",
   "metadata": {},
   "source": [
    "### Three Unique Insights from WeLoveDogs."
   ]
  },
  {
   "cell_type": "markdown",
   "metadata": {},
   "source": [
    "**1. What are the top 10 most popular dog names in our dataset?**<br><br>\n",
    "**2. What breed of dog is tweeted about the most?**<br><br>\n",
    "**3. Does a higher rating mean a larger amount of retweets?**<br><br>"
   ]
  },
  {
   "cell_type": "markdown",
   "metadata": {},
   "source": [
    "From the data provided to us via twitter, we've been able to explore the three questions above. Let's begin with the first question, what are the top 10 most popular dog names in our dataset? Although, a quick google search can give us the most popular dog names we want to understand, what are the most popular dog names specifically for this twitter account dedicated to dogs? After exploring the dataset we've been able to gather from twitter, the answer is Lucy. 11 dogs out of the 2174 dogs in our dataset were named Lucy. However, it is important to clarify that 11 dogs were also named Charlie. Although it is nice seeing their names, let's look at what some of our top 10 dogs look like."
   ]
  },
  {
   "cell_type": "markdown",
   "metadata": {},
   "source": [
    "**This is one of our dogs named Lucy.**<br>\n",
    "<img src=\"https://pbs.twimg.com/media/C57sMJwXMAASBSx.jpg\" height=\"300px\" width=\"300px\" align=\"left\">\n"
   ]
  },
  {
   "cell_type": "markdown",
   "metadata": {},
   "source": [
    "**And this is one of our dogs named Charlie.**\n",
    "\n",
    "<img src=\"https://pbs.twimg.com/media/C7iNfq1W0AAcbsR?format=jpg&name=large\" height=\"300px\" width=\"300px\" align=\"left\">"
   ]
  },
  {
   "cell_type": "markdown",
   "metadata": {},
   "source": [
    "Now that we know what name is the most popular, what about the breed? Thanks to our dataset, we've found the answer! Golden retrievers are the most tweeted about breed in WeLoveDogs. Which does make sense, it is one of the most generally known dog breeds thanks to Air Bud."
   ]
  },
  {
   "cell_type": "markdown",
   "metadata": {},
   "source": [
    "### Here's our Top 10 List of Dog Breeds on WeLoveDogs."
   ]
  },
  {
   "cell_type": "markdown",
   "metadata": {},
   "source": [
    "\n",
    "1. Golden Retriever<br><br>\n",
    "\n",
    "<img src=\"https://pbs.twimg.com/media/DFg_2PVW0AEHN3p.jpg\" height=\"300px\" width=\"300px\" align=\"left\">\n",
    "\n",
    "\n",
    "\n",
    "\n",
    "\n",
    "\n",
    "\n",
    "\n",
    "\n",
    "\n",
    "\n",
    "\n",
    "\n",
    "\n",
    "\n",
    "\n"
   ]
  },
  {
   "cell_type": "markdown",
   "metadata": {},
   "source": [
    "2. Labrador Retriever<br><br>  \n",
    "\n",
    "<img src=\"https://pbs.twimg.com/media/DEAz_HHXsAA-p_z.jpg\" height=\"300px\" width=\"300px\" align=\"left\">"
   ]
  },
  {
   "cell_type": "markdown",
   "metadata": {},
   "source": [
    "3. Pembroke Welsh Corgi<br><br>             \n",
    "\n",
    "<img src=\"https://pbs.twimg.com/media/DFrEyVuW0AAO3t9.jpg\" height=\"300px\" width=\"300px\" align=\"left\">"
   ]
  },
  {
   "cell_type": "markdown",
   "metadata": {},
   "source": [
    "4. Chihuahua<br><br>       \n",
    "\n",
    "<img src=\"https://pbs.twimg.com/media/CVaKn75XAAEU09u.jpg\" height=\"300px\" width=\"300px\" align=\"left\">"
   ]
  },
  {
   "cell_type": "markdown",
   "metadata": {},
   "source": [
    "5. Pug<br><br>      \n",
    "\n",
    "<img src=\"https://pbs.twimg.com/media/CZsKVxfWQAAXy2u.jpg\" height=\"300px\" width=\"300px\" align=\"left\">"
   ]
  },
  {
   "cell_type": "markdown",
   "metadata": {},
   "source": [
    "6. Chow Chow<br><br>      \n",
    "\n",
    "<img src=\"https://pbs.twimg.com/media/CsRY1jAWYAUOx55.jpg\" height=\"300px\" width=\"300px\" align=\"left\">"
   ]
  },
  {
   "cell_type": "markdown",
   "metadata": {},
   "source": [
    "7. Pomeranian<br><br> \n",
    "\n",
    "<img src=\"https://pbs.twimg.com/media/Cb3wWWbWEAAy06k.jpg\" height=\"300px\" width=\"300px\" align=\"left\">"
   ]
  },
  {
   "cell_type": "markdown",
   "metadata": {},
   "source": [
    "8. Toy Poodle<br><br>   \n",
    "\n",
    "<img src=\"https://pbs.twimg.com/media/CZr8LvyXEAABJ9k.jpg\" height=\"300px\" width=\"300px\" align=\"left\">\n"
   ]
  },
  {
   "cell_type": "markdown",
   "metadata": {},
   "source": [
    "9. Samoyed<br><br>     \n",
    "\n",
    "<img src=\"https://pbs.twimg.com/media/DAXXDQNXgAAoYQH.jpg\" height=\"300px\" width=\"300px\" align=\"left\">"
   ]
  },
  {
   "cell_type": "markdown",
   "metadata": {},
   "source": [
    "10. Alaskan Malamute<br><br>  \n",
    "\n",
    "<img src=\"https://pbs.twimg.com/media/C-YSwA_XgAEOr25.jpg\" height=\"300px\" width=\"300px\" align=\"left\">"
   ]
  },
  {
   "cell_type": "markdown",
   "metadata": {},
   "source": [
    "Lastly, since the purpose of WeLoveDogs is to rate the dogs apart from just tweeting about them, we asked, 'Does a higher rating mean a larger amount of retweets?'. The answer, not neccesarily. Judging from our graph below we can see that a rating of 0,64 is the most retweeted dog rating with 0.82 coming in second. However, even though one dog recieved a rating of 177.6 it wasn't the most retweeted."
   ]
  },
  {
   "cell_type": "markdown",
   "metadata": {},
   "source": [
    "<img src=\"data:image/png;base64,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\" >"
   ]
  }
 ],
 "metadata": {
  "kernelspec": {
   "display_name": "Python 3",
   "language": "python",
   "name": "python3"
  },
  "language_info": {
   "codemirror_mode": {
    "name": "ipython",
    "version": 3
   },
   "file_extension": ".py",
   "mimetype": "text/x-python",
   "name": "python",
   "nbconvert_exporter": "python",
   "pygments_lexer": "ipython3",
   "version": "3.6.3"
  }
 },
 "nbformat": 4,
 "nbformat_minor": 2
}
